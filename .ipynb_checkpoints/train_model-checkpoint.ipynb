{
 "cells": [
  {
   "cell_type": "code",
   "execution_count": 14,
   "metadata": {},
   "outputs": [],
   "source": [
    "import matplotlib.pyplot as plt\n",
    "import os\n",
    "import pandas as pd\n",
    "import numpy as np\n",
    "import keras\n",
    "from IPython.display import Image, SVG\n",
    "from keras.models import Sequential\n",
    "from keras.layers import Dense, Conv2D, MaxPooling2D, Dropout, Flatten\n",
    "from keras.preprocessing import image\n",
    "from keras.utils import np_utils\n",
    "from sklearn.model_selection import train_test_split"
   ]
  },
  {
   "cell_type": "code",
   "execution_count": 15,
   "metadata": {},
   "outputs": [],
   "source": [
    "data = pd.read_csv(\"dataset.csv\")\n",
    "\n",
    "dataset = np.array(data)\n",
    "\n",
    "features = dataset[:, 0:2500]\n",
    "features = features / 255.\n",
    "\n",
    "labels = dataset[:, 2500]\n",
    "labels = labels.reshape(labels.shape[0], 1)\n",
    "train_x, test_x, train_y, test_y = train_test_split(features, labels, random_state=0, test_size=0.2)\n",
    "# One-hot encoded vector\n",
    "train_y = np_utils.to_categorical(train_y)\n",
    "test_y = np_utils.to_categorical(test_y)\n",
    "\n",
    "train_x = train_x.reshape(train_x.shape[0], 50, 50, 1)\n",
    "test_x = test_x.reshape(test_x.shape[0], 50, 50, 1)\n"
   ]
  },
  {
   "cell_type": "code",
   "execution_count": 18,
   "metadata": {},
   "outputs": [
    {
     "name": "stdout",
     "output_type": "stream",
     "text": [
      "Model: \"sequential_7\"\n",
      "_________________________________________________________________\n",
      "Layer (type)                 Output Shape              Param #   \n",
      "=================================================================\n",
      "conv2d_12 (Conv2D)           (None, 48, 48, 32)        320       \n",
      "_________________________________________________________________\n",
      "max_pooling2d_11 (MaxPooling (None, 24, 24, 32)        0         \n",
      "_________________________________________________________________\n",
      "conv2d_13 (Conv2D)           (None, 22, 22, 64)        18496     \n",
      "_________________________________________________________________\n",
      "max_pooling2d_12 (MaxPooling (None, 5, 5, 64)          0         \n",
      "_________________________________________________________________\n",
      "flatten_6 (Flatten)          (None, 1600)              0         \n",
      "_________________________________________________________________\n",
      "dense_11 (Dense)             (None, 1024)              1639424   \n",
      "_________________________________________________________________\n",
      "dropout_6 (Dropout)          (None, 1024)              0         \n",
      "_________________________________________________________________\n",
      "dense_12 (Dense)             (None, 3)                 3075      \n",
      "=================================================================\n",
      "Total params: 1,661,315\n",
      "Trainable params: 1,661,315\n",
      "Non-trainable params: 0\n",
      "_________________________________________________________________\n",
      "Epoch 1/10\n",
      "84/84 [==============================] - 0s 3ms/step - loss: 1.0972 - accuracy: 0.4167\n",
      "Epoch 2/10\n",
      "84/84 [==============================] - 0s 3ms/step - loss: 1.0877 - accuracy: 0.4167\n",
      "Epoch 3/10\n",
      "84/84 [==============================] - 0s 3ms/step - loss: 1.0747 - accuracy: 0.4048\n",
      "Epoch 4/10\n",
      "84/84 [==============================] - 0s 3ms/step - loss: 1.0824 - accuracy: 0.4048\n",
      "Epoch 5/10\n",
      "84/84 [==============================] - 0s 3ms/step - loss: 1.0848 - accuracy: 0.4048\n",
      "Epoch 6/10\n",
      "84/84 [==============================] - 0s 3ms/step - loss: 1.0666 - accuracy: 0.4048\n",
      "Epoch 7/10\n",
      "84/84 [==============================] - 0s 3ms/step - loss: 1.0704 - accuracy: 0.4048\n",
      "Epoch 8/10\n",
      "84/84 [==============================] - 0s 3ms/step - loss: 1.0704 - accuracy: 0.4048\n",
      "Epoch 9/10\n",
      "84/84 [==============================] - 0s 3ms/step - loss: 1.0721 - accuracy: 0.4048\n",
      "Epoch 10/10\n",
      "84/84 [==============================] - 0s 3ms/step - loss: 1.0727 - accuracy: 0.4048\n",
      "21/21 [==============================] - 0s 830us/step\n"
     ]
    }
   ],
   "source": [
    "# Create model\n",
    "model = keras.Sequential()\n",
    "model.add(Conv2D(32, (3,3), input_shape=train_x.shape[1:], activation='relu'))\n",
    "model.add(MaxPooling2D(pool_size=(2,2), padding='same'))\n",
    "model.add(Conv2D(64, (3,3), activation='relu'))\n",
    "model.add(MaxPooling2D(pool_size=(5,5), padding='same'))\n",
    "model.add(Flatten())\n",
    "model.add(Dense(1024, activation='relu'))\n",
    "model.add(Dropout(0.4))\n",
    "model.add(Dense(3, activation='softmax'))\n",
    "\n",
    "model.compile(loss='categorical_crossentropy', optimizer='adam', metrics=['accuracy'])\n",
    "model.summary()\n",
    "# Train model\n",
    "model.fit(train_x, train_y, epochs=20, verbose=1)\n",
    "score = model.evaluate(test_x, test_y, verbose=1)\n",
    "# save model\n",
    "filepath = \"model.h5\"\n",
    "model.save(filepath)"
   ]
  },
  {
   "cell_type": "code",
   "execution_count": 19,
   "metadata": {},
   "outputs": [
    {
     "data": {
      "text/plain": [
       "[1.106811285018921, 0.523809552192688]"
      ]
     },
     "execution_count": 19,
     "metadata": {},
     "output_type": "execute_result"
    }
   ],
   "source": [
    "score"
   ]
  },
  {
   "cell_type": "code",
   "execution_count": null,
   "metadata": {},
   "outputs": [],
   "source": []
  },
  {
   "cell_type": "code",
   "execution_count": null,
   "metadata": {},
   "outputs": [],
   "source": []
  }
 ],
 "metadata": {
  "kernelspec": {
   "display_name": "Python 3",
   "language": "python",
   "name": "python3"
  },
  "language_info": {
   "codemirror_mode": {
    "name": "ipython",
    "version": 3
   },
   "file_extension": ".py",
   "mimetype": "text/x-python",
   "name": "python",
   "nbconvert_exporter": "python",
   "pygments_lexer": "ipython3",
   "version": "3.7.4"
  }
 },
 "nbformat": 4,
 "nbformat_minor": 2
}
