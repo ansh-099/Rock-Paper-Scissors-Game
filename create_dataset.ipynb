{
 "cells": [
  {
   "cell_type": "code",
   "execution_count": 4,
   "metadata": {},
   "outputs": [],
   "source": [
    "import os\n",
    "import cv2\n",
    "import numpy as np\n",
    "folder_paths = ['dataset/rock/', 'dataset/paper/', 'dataset/scissors/']\n",
    "files = []\n",
    "for folder in folder_paths:\n",
    "    for file in os.listdir(folder):\n",
    "        full_path = os.path.join(folder, file)\n",
    "        if \".DS_Store\" not in full_path:\n",
    "            files.append(full_path)"
   ]
  },
  {
   "cell_type": "code",
   "execution_count": 9,
   "metadata": {},
   "outputs": [],
   "source": [
    "from keras.preprocessing import image\n",
    "from keras.preprocessing.image import img_to_array\n",
    "import pandas as pd\n",
    "flattened_data = []\n",
    "label = []\n",
    "for x in files:\n",
    "    img = cv2.imread(x,0)\n",
    "    resized = cv2.resize(img, (50,50))\n",
    "    img_arr = img_to_array(resized)\n",
    "    img_arr /= 255\n",
    "    flattened = img_arr.flatten().reshape(-1,50*50)\n",
    "    if \"rock\" in x:\n",
    "        label = np.append(flattened, 1)\n",
    "        flattened_data.append(label)\n",
    "    if \"paper\" in x:\n",
    "        label = np.append(flattened, 0)\n",
    "        flattened_data.append(label)\n",
    "    if \"scissors\" in x:\n",
    "        label = np.append(flattened, 2)\n",
    "        flattened_data.append(label)\n",
    "    \n",
    "len(flattened_data)\n",
    "data = pd.DataFrame(list(map(np.ravel, flattened_data)))\n",
    "data = data.astype(int)\n",
    "data = data.rename(columns={x:y for x,y in zip(data.columns,range(1,len(data.columns)+1))})\n",
    "data.to_csv('dataset.csv', encoding='utf-8', index=False)"
   ]
  },
  {
   "cell_type": "code",
   "execution_count": 10,
   "metadata": {},
   "outputs": [
    {
     "data": {
      "text/plain": [
       "[array([0., 0., 0., ..., 0., 0., 1.]),\n",
       " array([0., 0., 0., ..., 0., 0., 1.]),\n",
       " array([0., 0., 0., ..., 0., 0., 1.]),\n",
       " array([0., 0., 0., ..., 0., 0., 1.]),\n",
       " array([0., 0., 0., ..., 0., 0., 1.]),\n",
       " array([0., 0., 0., ..., 1., 1., 0.]),\n",
       " array([0., 0., 0., ..., 1., 1., 0.]),\n",
       " array([0., 0., 0., ..., 1., 1., 0.]),\n",
       " array([0., 0., 0., ..., 1., 1., 0.]),\n",
       " array([0., 0., 0., ..., 1., 1., 2.])]"
      ]
     },
     "execution_count": 10,
     "metadata": {},
     "output_type": "execute_result"
    }
   ],
   "source": [
    "flattened_data"
   ]
  },
  {
   "cell_type": "code",
   "execution_count": null,
   "metadata": {},
   "outputs": [],
   "source": []
  }
 ],
 "metadata": {
  "kernelspec": {
   "display_name": "Python 3",
   "language": "python",
   "name": "python3"
  },
  "language_info": {
   "codemirror_mode": {
    "name": "ipython",
    "version": 3
   },
   "file_extension": ".py",
   "mimetype": "text/x-python",
   "name": "python",
   "nbconvert_exporter": "python",
   "pygments_lexer": "ipython3",
   "version": "3.7.4"
  }
 },
 "nbformat": 4,
 "nbformat_minor": 2
}
